{
 "cells": [
  {
   "cell_type": "markdown",
   "id": "ffcd45f4",
   "metadata": {},
   "source": [
    "# Data Analysis on Covid-19 data set\n",
    "### Here we had use different python library to analysize the result"
   ]
  },
  {
   "cell_type": "code",
   "execution_count": 4,
   "id": "f2571fc5",
   "metadata": {},
   "outputs": [],
   "source": [
    "import pandas as pd\n",
    "import os\n",
    "import matplotlib.pyplot as plt\n",
    "import seaborn as sns"
   ]
  },
  {
   "cell_type": "markdown",
   "id": "14fed250",
   "metadata": {},
   "source": [
    "### Now we had extract and read the CSV_file using #Pd.read_csv() command\n",
    "\n"
   ]
  },
  {
   "cell_type": "code",
   "execution_count": 5,
   "id": "5d145616",
   "metadata": {},
   "outputs": [
    {
     "data": {
      "text/html": [
       "<div>\n",
       "<style scoped>\n",
       "    .dataframe tbody tr th:only-of-type {\n",
       "        vertical-align: middle;\n",
       "    }\n",
       "\n",
       "    .dataframe tbody tr th {\n",
       "        vertical-align: top;\n",
       "    }\n",
       "\n",
       "    .dataframe thead th {\n",
       "        text-align: right;\n",
       "    }\n",
       "</style>\n",
       "<table border=\"1\" class=\"dataframe\">\n",
       "  <thead>\n",
       "    <tr style=\"text-align: right;\">\n",
       "      <th></th>\n",
       "      <th>Date</th>\n",
       "      <th>State</th>\n",
       "      <th>Region</th>\n",
       "      <th>Confirmed</th>\n",
       "      <th>Deaths</th>\n",
       "      <th>Recovered</th>\n",
       "    </tr>\n",
       "  </thead>\n",
       "  <tbody>\n",
       "    <tr>\n",
       "      <th>0</th>\n",
       "      <td>4/29/2020</td>\n",
       "      <td>NaN</td>\n",
       "      <td>Afghanistan</td>\n",
       "      <td>1939</td>\n",
       "      <td>60</td>\n",
       "      <td>252</td>\n",
       "    </tr>\n",
       "    <tr>\n",
       "      <th>1</th>\n",
       "      <td>4/29/2020</td>\n",
       "      <td>NaN</td>\n",
       "      <td>Albania</td>\n",
       "      <td>766</td>\n",
       "      <td>30</td>\n",
       "      <td>455</td>\n",
       "    </tr>\n",
       "    <tr>\n",
       "      <th>2</th>\n",
       "      <td>4/29/2020</td>\n",
       "      <td>NaN</td>\n",
       "      <td>Algeria</td>\n",
       "      <td>3848</td>\n",
       "      <td>444</td>\n",
       "      <td>1702</td>\n",
       "    </tr>\n",
       "    <tr>\n",
       "      <th>3</th>\n",
       "      <td>4/29/2020</td>\n",
       "      <td>NaN</td>\n",
       "      <td>Andorra</td>\n",
       "      <td>743</td>\n",
       "      <td>42</td>\n",
       "      <td>423</td>\n",
       "    </tr>\n",
       "    <tr>\n",
       "      <th>4</th>\n",
       "      <td>4/29/2020</td>\n",
       "      <td>NaN</td>\n",
       "      <td>Angola</td>\n",
       "      <td>27</td>\n",
       "      <td>2</td>\n",
       "      <td>7</td>\n",
       "    </tr>\n",
       "    <tr>\n",
       "      <th>...</th>\n",
       "      <td>...</td>\n",
       "      <td>...</td>\n",
       "      <td>...</td>\n",
       "      <td>...</td>\n",
       "      <td>...</td>\n",
       "      <td>...</td>\n",
       "    </tr>\n",
       "    <tr>\n",
       "      <th>316</th>\n",
       "      <td>4/29/2020</td>\n",
       "      <td>Wyoming</td>\n",
       "      <td>US</td>\n",
       "      <td>545</td>\n",
       "      <td>7</td>\n",
       "      <td>0</td>\n",
       "    </tr>\n",
       "    <tr>\n",
       "      <th>317</th>\n",
       "      <td>4/29/2020</td>\n",
       "      <td>Xinjiang</td>\n",
       "      <td>Mainland China</td>\n",
       "      <td>76</td>\n",
       "      <td>3</td>\n",
       "      <td>73</td>\n",
       "    </tr>\n",
       "    <tr>\n",
       "      <th>318</th>\n",
       "      <td>4/29/2020</td>\n",
       "      <td>Yukon</td>\n",
       "      <td>Canada</td>\n",
       "      <td>11</td>\n",
       "      <td>0</td>\n",
       "      <td>0</td>\n",
       "    </tr>\n",
       "    <tr>\n",
       "      <th>319</th>\n",
       "      <td>4/29/2020</td>\n",
       "      <td>Yunnan</td>\n",
       "      <td>Mainland China</td>\n",
       "      <td>185</td>\n",
       "      <td>2</td>\n",
       "      <td>181</td>\n",
       "    </tr>\n",
       "    <tr>\n",
       "      <th>320</th>\n",
       "      <td>4/29/2020</td>\n",
       "      <td>Zhejiang</td>\n",
       "      <td>Mainland China</td>\n",
       "      <td>1268</td>\n",
       "      <td>1</td>\n",
       "      <td>1263</td>\n",
       "    </tr>\n",
       "  </tbody>\n",
       "</table>\n",
       "<p>321 rows × 6 columns</p>\n",
       "</div>"
      ],
      "text/plain": [
       "          Date     State          Region  Confirmed  Deaths  Recovered\n",
       "0    4/29/2020       NaN     Afghanistan       1939      60        252\n",
       "1    4/29/2020       NaN         Albania        766      30        455\n",
       "2    4/29/2020       NaN         Algeria       3848     444       1702\n",
       "3    4/29/2020       NaN         Andorra        743      42        423\n",
       "4    4/29/2020       NaN          Angola         27       2          7\n",
       "..         ...       ...             ...        ...     ...        ...\n",
       "316  4/29/2020   Wyoming              US        545       7          0\n",
       "317  4/29/2020  Xinjiang  Mainland China         76       3         73\n",
       "318  4/29/2020     Yukon          Canada         11       0          0\n",
       "319  4/29/2020    Yunnan  Mainland China        185       2        181\n",
       "320  4/29/2020  Zhejiang  Mainland China       1268       1       1263\n",
       "\n",
       "[321 rows x 6 columns]"
      ]
     },
     "execution_count": 5,
     "metadata": {},
     "output_type": "execute_result"
    }
   ],
   "source": [
    "data=pd.read_csv(r\"C:\\Users\\ADMIN\\Downloads\\4. covid_19_data.csv\")\n",
    "data"
   ]
  },
  {
   "cell_type": "markdown",
   "id": "494fc03e",
   "metadata": {},
   "source": [
    "<b> Display 5 rows of data set"
   ]
  },
  {
   "cell_type": "code",
   "execution_count": 45,
   "id": "e87190c2",
   "metadata": {},
   "outputs": [
    {
     "data": {
      "text/html": [
       "<div>\n",
       "<style scoped>\n",
       "    .dataframe tbody tr th:only-of-type {\n",
       "        vertical-align: middle;\n",
       "    }\n",
       "\n",
       "    .dataframe tbody tr th {\n",
       "        vertical-align: top;\n",
       "    }\n",
       "\n",
       "    .dataframe thead th {\n",
       "        text-align: right;\n",
       "    }\n",
       "</style>\n",
       "<table border=\"1\" class=\"dataframe\">\n",
       "  <thead>\n",
       "    <tr style=\"text-align: right;\">\n",
       "      <th></th>\n",
       "      <th>Date</th>\n",
       "      <th>State</th>\n",
       "      <th>Region</th>\n",
       "      <th>Confirmed</th>\n",
       "      <th>Deaths</th>\n",
       "      <th>Recovered</th>\n",
       "    </tr>\n",
       "  </thead>\n",
       "  <tbody>\n",
       "    <tr>\n",
       "      <th>0</th>\n",
       "      <td>4/29/2020</td>\n",
       "      <td>NaN</td>\n",
       "      <td>Afghanistan</td>\n",
       "      <td>1939</td>\n",
       "      <td>60</td>\n",
       "      <td>252</td>\n",
       "    </tr>\n",
       "    <tr>\n",
       "      <th>1</th>\n",
       "      <td>4/29/2020</td>\n",
       "      <td>NaN</td>\n",
       "      <td>Albania</td>\n",
       "      <td>766</td>\n",
       "      <td>30</td>\n",
       "      <td>455</td>\n",
       "    </tr>\n",
       "    <tr>\n",
       "      <th>2</th>\n",
       "      <td>4/29/2020</td>\n",
       "      <td>NaN</td>\n",
       "      <td>Algeria</td>\n",
       "      <td>3848</td>\n",
       "      <td>444</td>\n",
       "      <td>1702</td>\n",
       "    </tr>\n",
       "    <tr>\n",
       "      <th>3</th>\n",
       "      <td>4/29/2020</td>\n",
       "      <td>NaN</td>\n",
       "      <td>Andorra</td>\n",
       "      <td>743</td>\n",
       "      <td>42</td>\n",
       "      <td>423</td>\n",
       "    </tr>\n",
       "    <tr>\n",
       "      <th>4</th>\n",
       "      <td>4/29/2020</td>\n",
       "      <td>NaN</td>\n",
       "      <td>Angola</td>\n",
       "      <td>27</td>\n",
       "      <td>2</td>\n",
       "      <td>7</td>\n",
       "    </tr>\n",
       "  </tbody>\n",
       "</table>\n",
       "</div>"
      ],
      "text/plain": [
       "        Date State       Region  Confirmed  Deaths  Recovered\n",
       "0  4/29/2020   NaN  Afghanistan       1939      60        252\n",
       "1  4/29/2020   NaN      Albania        766      30        455\n",
       "2  4/29/2020   NaN      Algeria       3848     444       1702\n",
       "3  4/29/2020   NaN      Andorra        743      42        423\n",
       "4  4/29/2020   NaN       Angola         27       2          7"
      ]
     },
     "execution_count": 45,
     "metadata": {},
     "output_type": "execute_result"
    }
   ],
   "source": [
    "data.head(5)"
   ]
  },
  {
   "cell_type": "markdown",
   "id": "ed9f256f",
   "metadata": {},
   "source": [
    "<b> Display last 5 rows of data set"
   ]
  },
  {
   "cell_type": "code",
   "execution_count": 5,
   "id": "dfb37b80",
   "metadata": {},
   "outputs": [
    {
     "data": {
      "text/html": [
       "<div>\n",
       "<style scoped>\n",
       "    .dataframe tbody tr th:only-of-type {\n",
       "        vertical-align: middle;\n",
       "    }\n",
       "\n",
       "    .dataframe tbody tr th {\n",
       "        vertical-align: top;\n",
       "    }\n",
       "\n",
       "    .dataframe thead th {\n",
       "        text-align: right;\n",
       "    }\n",
       "</style>\n",
       "<table border=\"1\" class=\"dataframe\">\n",
       "  <thead>\n",
       "    <tr style=\"text-align: right;\">\n",
       "      <th></th>\n",
       "      <th>Date</th>\n",
       "      <th>State</th>\n",
       "      <th>Region</th>\n",
       "      <th>Confirmed</th>\n",
       "      <th>Deaths</th>\n",
       "      <th>Recovered</th>\n",
       "    </tr>\n",
       "  </thead>\n",
       "  <tbody>\n",
       "    <tr>\n",
       "      <th>316</th>\n",
       "      <td>4/29/2020</td>\n",
       "      <td>Wyoming</td>\n",
       "      <td>US</td>\n",
       "      <td>545</td>\n",
       "      <td>7</td>\n",
       "      <td>0</td>\n",
       "    </tr>\n",
       "    <tr>\n",
       "      <th>317</th>\n",
       "      <td>4/29/2020</td>\n",
       "      <td>Xinjiang</td>\n",
       "      <td>Mainland China</td>\n",
       "      <td>76</td>\n",
       "      <td>3</td>\n",
       "      <td>73</td>\n",
       "    </tr>\n",
       "    <tr>\n",
       "      <th>318</th>\n",
       "      <td>4/29/2020</td>\n",
       "      <td>Yukon</td>\n",
       "      <td>Canada</td>\n",
       "      <td>11</td>\n",
       "      <td>0</td>\n",
       "      <td>0</td>\n",
       "    </tr>\n",
       "    <tr>\n",
       "      <th>319</th>\n",
       "      <td>4/29/2020</td>\n",
       "      <td>Yunnan</td>\n",
       "      <td>Mainland China</td>\n",
       "      <td>185</td>\n",
       "      <td>2</td>\n",
       "      <td>181</td>\n",
       "    </tr>\n",
       "    <tr>\n",
       "      <th>320</th>\n",
       "      <td>4/29/2020</td>\n",
       "      <td>Zhejiang</td>\n",
       "      <td>Mainland China</td>\n",
       "      <td>1268</td>\n",
       "      <td>1</td>\n",
       "      <td>1263</td>\n",
       "    </tr>\n",
       "  </tbody>\n",
       "</table>\n",
       "</div>"
      ],
      "text/plain": [
       "          Date     State          Region  Confirmed  Deaths  Recovered\n",
       "316  4/29/2020   Wyoming              US        545       7          0\n",
       "317  4/29/2020  Xinjiang  Mainland China         76       3         73\n",
       "318  4/29/2020     Yukon          Canada         11       0          0\n",
       "319  4/29/2020    Yunnan  Mainland China        185       2        181\n",
       "320  4/29/2020  Zhejiang  Mainland China       1268       1       1263"
      ]
     },
     "execution_count": 5,
     "metadata": {},
     "output_type": "execute_result"
    }
   ],
   "source": [
    "data.tail(5)"
   ]
  },
  {
   "cell_type": "markdown",
   "id": "ea1b4a8c",
   "metadata": {},
   "source": [
    "## To diplay data types of Entries and other info"
   ]
  },
  {
   "cell_type": "code",
   "execution_count": 6,
   "id": "b9e19c28",
   "metadata": {},
   "outputs": [
    {
     "data": {
      "text/plain": [
       "Date         object\n",
       "State        object\n",
       "Region       object\n",
       "Confirmed     int64\n",
       "Deaths        int64\n",
       "Recovered     int64\n",
       "dtype: object"
      ]
     },
     "execution_count": 6,
     "metadata": {},
     "output_type": "execute_result"
    }
   ],
   "source": [
    "data.dtypes"
   ]
  },
  {
   "cell_type": "markdown",
   "id": "531d73ab",
   "metadata": {},
   "source": [
    "<b> The detailed information of data set"
   ]
  },
  {
   "cell_type": "code",
   "execution_count": 7,
   "id": "a9f3b9cb",
   "metadata": {},
   "outputs": [
    {
     "name": "stdout",
     "output_type": "stream",
     "text": [
      "<class 'pandas.core.frame.DataFrame'>\n",
      "RangeIndex: 321 entries, 0 to 320\n",
      "Data columns (total 6 columns):\n",
      " #   Column     Non-Null Count  Dtype \n",
      "---  ------     --------------  ----- \n",
      " 0   Date       321 non-null    object\n",
      " 1   State      140 non-null    object\n",
      " 2   Region     321 non-null    object\n",
      " 3   Confirmed  321 non-null    int64 \n",
      " 4   Deaths     321 non-null    int64 \n",
      " 5   Recovered  321 non-null    int64 \n",
      "dtypes: int64(3), object(3)\n",
      "memory usage: 15.2+ KB\n"
     ]
    }
   ],
   "source": [
    "data.info()"
   ]
  },
  {
   "cell_type": "markdown",
   "id": "2bc042f9",
   "metadata": {},
   "source": [
    "<b>"
   ]
  },
  {
   "cell_type": "markdown",
   "id": "1354e3d0",
   "metadata": {},
   "source": [
    "<b> View some basic statistical details like percentile, mean, std etc. of a data frame or a series of numeric values."
   ]
  },
  {
   "cell_type": "code",
   "execution_count": 8,
   "id": "567c7b88",
   "metadata": {},
   "outputs": [
    {
     "data": {
      "text/html": [
       "<div>\n",
       "<style scoped>\n",
       "    .dataframe tbody tr th:only-of-type {\n",
       "        vertical-align: middle;\n",
       "    }\n",
       "\n",
       "    .dataframe tbody tr th {\n",
       "        vertical-align: top;\n",
       "    }\n",
       "\n",
       "    .dataframe thead th {\n",
       "        text-align: right;\n",
       "    }\n",
       "</style>\n",
       "<table border=\"1\" class=\"dataframe\">\n",
       "  <thead>\n",
       "    <tr style=\"text-align: right;\">\n",
       "      <th></th>\n",
       "      <th>Confirmed</th>\n",
       "      <th>Deaths</th>\n",
       "      <th>Recovered</th>\n",
       "    </tr>\n",
       "  </thead>\n",
       "  <tbody>\n",
       "    <tr>\n",
       "      <th>count</th>\n",
       "      <td>321.000000</td>\n",
       "      <td>321.000000</td>\n",
       "      <td>321.000000</td>\n",
       "    </tr>\n",
       "    <tr>\n",
       "      <th>mean</th>\n",
       "      <td>9949.800623</td>\n",
       "      <td>709.152648</td>\n",
       "      <td>3030.277259</td>\n",
       "    </tr>\n",
       "    <tr>\n",
       "      <th>std</th>\n",
       "      <td>31923.853086</td>\n",
       "      <td>3236.162817</td>\n",
       "      <td>14364.870365</td>\n",
       "    </tr>\n",
       "    <tr>\n",
       "      <th>min</th>\n",
       "      <td>0.000000</td>\n",
       "      <td>0.000000</td>\n",
       "      <td>0.000000</td>\n",
       "    </tr>\n",
       "    <tr>\n",
       "      <th>25%</th>\n",
       "      <td>104.000000</td>\n",
       "      <td>2.000000</td>\n",
       "      <td>2.000000</td>\n",
       "    </tr>\n",
       "    <tr>\n",
       "      <th>50%</th>\n",
       "      <td>653.000000</td>\n",
       "      <td>12.000000</td>\n",
       "      <td>73.000000</td>\n",
       "    </tr>\n",
       "    <tr>\n",
       "      <th>75%</th>\n",
       "      <td>4655.000000</td>\n",
       "      <td>144.000000</td>\n",
       "      <td>587.000000</td>\n",
       "    </tr>\n",
       "    <tr>\n",
       "      <th>max</th>\n",
       "      <td>299691.000000</td>\n",
       "      <td>27682.000000</td>\n",
       "      <td>132929.000000</td>\n",
       "    </tr>\n",
       "  </tbody>\n",
       "</table>\n",
       "</div>"
      ],
      "text/plain": [
       "           Confirmed        Deaths      Recovered\n",
       "count     321.000000    321.000000     321.000000\n",
       "mean     9949.800623    709.152648    3030.277259\n",
       "std     31923.853086   3236.162817   14364.870365\n",
       "min         0.000000      0.000000       0.000000\n",
       "25%       104.000000      2.000000       2.000000\n",
       "50%       653.000000     12.000000      73.000000\n",
       "75%      4655.000000    144.000000     587.000000\n",
       "max    299691.000000  27682.000000  132929.000000"
      ]
     },
     "execution_count": 8,
     "metadata": {},
     "output_type": "execute_result"
    }
   ],
   "source": [
    "data.describe()"
   ]
  },
  {
   "cell_type": "markdown",
   "id": "29ebb5bf",
   "metadata": {},
   "source": [
    "## This shows the count of region in particular state"
   ]
  },
  {
   "cell_type": "code",
   "execution_count": 10,
   "id": "1b1a4e35",
   "metadata": {},
   "outputs": [
    {
     "data": {
      "text/plain": [
       "US                58\n",
       "Mainland China    31\n",
       "Canada            15\n",
       "UK                11\n",
       "France            11\n",
       "Australia          8\n",
       "Netherlands        5\n",
       "Denmark            3\n",
       "Pakistan           1\n",
       "Austria            1\n",
       "Finland            1\n",
       "Cyprus             1\n",
       "Czech Republic     1\n",
       "Morocco            1\n",
       "Djibouti           1\n",
       "Madagascar         1\n",
       "El Salvador        1\n",
       "Liberia            1\n",
       "Eritrea            1\n",
       "Moldova            1\n",
       "Name: Region, dtype: int64"
      ]
     },
     "execution_count": 10,
     "metadata": {},
     "output_type": "execute_result"
    }
   ],
   "source": [
    "#this shows the count of region in particular state\n",
    "data[\"Region\"].value_counts().head(20)"
   ]
  },
  {
   "cell_type": "markdown",
   "id": "57bd29cd",
   "metadata": {},
   "source": [
    "## Here we are Exploring the Data using \"ISNULL()\" & \"COUNT()\" function"
   ]
  },
  {
   "cell_type": "code",
   "execution_count": 11,
   "id": "4fca2f38",
   "metadata": {},
   "outputs": [
    {
     "data": {
      "text/plain": [
       "Date         321\n",
       "State        140\n",
       "Region       321\n",
       "Confirmed    321\n",
       "Deaths       321\n",
       "Recovered    321\n",
       "dtype: int64"
      ]
     },
     "execution_count": 11,
     "metadata": {},
     "output_type": "execute_result"
    }
   ],
   "source": [
    "data.count()"
   ]
  },
  {
   "cell_type": "code",
   "execution_count": 12,
   "id": "c32496af",
   "metadata": {},
   "outputs": [
    {
     "data": {
      "text/html": [
       "<div>\n",
       "<style scoped>\n",
       "    .dataframe tbody tr th:only-of-type {\n",
       "        vertical-align: middle;\n",
       "    }\n",
       "\n",
       "    .dataframe tbody tr th {\n",
       "        vertical-align: top;\n",
       "    }\n",
       "\n",
       "    .dataframe thead th {\n",
       "        text-align: right;\n",
       "    }\n",
       "</style>\n",
       "<table border=\"1\" class=\"dataframe\">\n",
       "  <thead>\n",
       "    <tr style=\"text-align: right;\">\n",
       "      <th></th>\n",
       "      <th>Date</th>\n",
       "      <th>State</th>\n",
       "      <th>Region</th>\n",
       "      <th>Confirmed</th>\n",
       "      <th>Deaths</th>\n",
       "      <th>Recovered</th>\n",
       "    </tr>\n",
       "  </thead>\n",
       "  <tbody>\n",
       "    <tr>\n",
       "      <th>0</th>\n",
       "      <td>False</td>\n",
       "      <td>True</td>\n",
       "      <td>False</td>\n",
       "      <td>False</td>\n",
       "      <td>False</td>\n",
       "      <td>False</td>\n",
       "    </tr>\n",
       "    <tr>\n",
       "      <th>1</th>\n",
       "      <td>False</td>\n",
       "      <td>True</td>\n",
       "      <td>False</td>\n",
       "      <td>False</td>\n",
       "      <td>False</td>\n",
       "      <td>False</td>\n",
       "    </tr>\n",
       "    <tr>\n",
       "      <th>2</th>\n",
       "      <td>False</td>\n",
       "      <td>True</td>\n",
       "      <td>False</td>\n",
       "      <td>False</td>\n",
       "      <td>False</td>\n",
       "      <td>False</td>\n",
       "    </tr>\n",
       "    <tr>\n",
       "      <th>3</th>\n",
       "      <td>False</td>\n",
       "      <td>True</td>\n",
       "      <td>False</td>\n",
       "      <td>False</td>\n",
       "      <td>False</td>\n",
       "      <td>False</td>\n",
       "    </tr>\n",
       "    <tr>\n",
       "      <th>4</th>\n",
       "      <td>False</td>\n",
       "      <td>True</td>\n",
       "      <td>False</td>\n",
       "      <td>False</td>\n",
       "      <td>False</td>\n",
       "      <td>False</td>\n",
       "    </tr>\n",
       "    <tr>\n",
       "      <th>...</th>\n",
       "      <td>...</td>\n",
       "      <td>...</td>\n",
       "      <td>...</td>\n",
       "      <td>...</td>\n",
       "      <td>...</td>\n",
       "      <td>...</td>\n",
       "    </tr>\n",
       "    <tr>\n",
       "      <th>316</th>\n",
       "      <td>False</td>\n",
       "      <td>False</td>\n",
       "      <td>False</td>\n",
       "      <td>False</td>\n",
       "      <td>False</td>\n",
       "      <td>False</td>\n",
       "    </tr>\n",
       "    <tr>\n",
       "      <th>317</th>\n",
       "      <td>False</td>\n",
       "      <td>False</td>\n",
       "      <td>False</td>\n",
       "      <td>False</td>\n",
       "      <td>False</td>\n",
       "      <td>False</td>\n",
       "    </tr>\n",
       "    <tr>\n",
       "      <th>318</th>\n",
       "      <td>False</td>\n",
       "      <td>False</td>\n",
       "      <td>False</td>\n",
       "      <td>False</td>\n",
       "      <td>False</td>\n",
       "      <td>False</td>\n",
       "    </tr>\n",
       "    <tr>\n",
       "      <th>319</th>\n",
       "      <td>False</td>\n",
       "      <td>False</td>\n",
       "      <td>False</td>\n",
       "      <td>False</td>\n",
       "      <td>False</td>\n",
       "      <td>False</td>\n",
       "    </tr>\n",
       "    <tr>\n",
       "      <th>320</th>\n",
       "      <td>False</td>\n",
       "      <td>False</td>\n",
       "      <td>False</td>\n",
       "      <td>False</td>\n",
       "      <td>False</td>\n",
       "      <td>False</td>\n",
       "    </tr>\n",
       "  </tbody>\n",
       "</table>\n",
       "<p>321 rows × 6 columns</p>\n",
       "</div>"
      ],
      "text/plain": [
       "      Date  State  Region  Confirmed  Deaths  Recovered\n",
       "0    False   True   False      False   False      False\n",
       "1    False   True   False      False   False      False\n",
       "2    False   True   False      False   False      False\n",
       "3    False   True   False      False   False      False\n",
       "4    False   True   False      False   False      False\n",
       "..     ...    ...     ...        ...     ...        ...\n",
       "316  False  False   False      False   False      False\n",
       "317  False  False   False      False   False      False\n",
       "318  False  False   False      False   False      False\n",
       "319  False  False   False      False   False      False\n",
       "320  False  False   False      False   False      False\n",
       "\n",
       "[321 rows x 6 columns]"
      ]
     },
     "execution_count": 12,
     "metadata": {},
     "output_type": "execute_result"
    }
   ],
   "source": [
    "data.isnull()"
   ]
  },
  {
   "cell_type": "markdown",
   "id": "991b1eb8",
   "metadata": {},
   "source": [
    "### Here you can see in upper case the o/p using isnull() function is in \"Boolean form\", To get the o/p in values means in\"Numeric\" we had added sum() fuction to it so we can get clear known about null values\n",
    "\n"
   ]
  },
  {
   "cell_type": "code",
   "execution_count": 13,
   "id": "5d33b8da",
   "metadata": {},
   "outputs": [
    {
     "data": {
      "text/plain": [
       "Date           0\n",
       "State        181\n",
       "Region         0\n",
       "Confirmed      0\n",
       "Deaths         0\n",
       "Recovered      0\n",
       "dtype: int64"
      ]
     },
     "execution_count": 13,
     "metadata": {},
     "output_type": "execute_result"
    }
   ],
   "source": [
    "data.isnull().sum()"
   ]
  },
  {
   "cell_type": "markdown",
   "id": "82f00ba2",
   "metadata": {},
   "source": [
    "## Graphical erepresentaion of null Value"
   ]
  },
  {
   "cell_type": "code",
   "execution_count": 14,
   "id": "96d8da7c",
   "metadata": {},
   "outputs": [
    {
     "data": {
      "text/plain": [
       "<AxesSubplot:>"
      ]
     },
     "execution_count": 14,
     "metadata": {},
     "output_type": "execute_result"
    },
    {
     "data": {
      "image/png": "[encoded data removed]",
      "text/plain": [
       "<Figure size 432x288 with 2 Axes>"
      ]
     },
     "metadata": {
      "needs_background": "light"
     },
     "output_type": "display_data"
    }
   ],
   "source": [
    "sns.heatmap(data.isnull())"
   ]
  },
  {
   "cell_type": "markdown",
   "id": "0fd0bab9",
   "metadata": {},
   "source": [
    "## Now using the \"DROPNA()\" function we are removing all the nan values from the row \"State\" coluumn of data set."
   ]
  },
  {
   "cell_type": "code",
   "execution_count": 15,
   "id": "820276ce",
   "metadata": {},
   "outputs": [
    {
     "data": {
      "text/html": [
       "<div>\n",
       "<style scoped>\n",
       "    .dataframe tbody tr th:only-of-type {\n",
       "        vertical-align: middle;\n",
       "    }\n",
       "\n",
       "    .dataframe tbody tr th {\n",
       "        vertical-align: top;\n",
       "    }\n",
       "\n",
       "    .dataframe thead th {\n",
       "        text-align: right;\n",
       "    }\n",
       "</style>\n",
       "<table border=\"1\" class=\"dataframe\">\n",
       "  <thead>\n",
       "    <tr style=\"text-align: right;\">\n",
       "      <th></th>\n",
       "      <th>Date</th>\n",
       "      <th>State</th>\n",
       "      <th>Region</th>\n",
       "      <th>Confirmed</th>\n",
       "      <th>Deaths</th>\n",
       "      <th>Recovered</th>\n",
       "    </tr>\n",
       "  </thead>\n",
       "  <tbody>\n",
       "    <tr>\n",
       "      <th>181</th>\n",
       "      <td>4/29/2020</td>\n",
       "      <td>Alabama</td>\n",
       "      <td>US</td>\n",
       "      <td>6912</td>\n",
       "      <td>256</td>\n",
       "      <td>0</td>\n",
       "    </tr>\n",
       "    <tr>\n",
       "      <th>182</th>\n",
       "      <td>4/29/2020</td>\n",
       "      <td>Alaska</td>\n",
       "      <td>US</td>\n",
       "      <td>355</td>\n",
       "      <td>9</td>\n",
       "      <td>0</td>\n",
       "    </tr>\n",
       "    <tr>\n",
       "      <th>183</th>\n",
       "      <td>4/29/2020</td>\n",
       "      <td>Alberta</td>\n",
       "      <td>Canada</td>\n",
       "      <td>5165</td>\n",
       "      <td>87</td>\n",
       "      <td>0</td>\n",
       "    </tr>\n",
       "    <tr>\n",
       "      <th>184</th>\n",
       "      <td>4/29/2020</td>\n",
       "      <td>Anguilla</td>\n",
       "      <td>UK</td>\n",
       "      <td>3</td>\n",
       "      <td>0</td>\n",
       "      <td>3</td>\n",
       "    </tr>\n",
       "    <tr>\n",
       "      <th>185</th>\n",
       "      <td>4/29/2020</td>\n",
       "      <td>Anhui</td>\n",
       "      <td>Mainland China</td>\n",
       "      <td>991</td>\n",
       "      <td>6</td>\n",
       "      <td>985</td>\n",
       "    </tr>\n",
       "  </tbody>\n",
       "</table>\n",
       "</div>"
      ],
      "text/plain": [
       "          Date     State          Region  Confirmed  Deaths  Recovered\n",
       "181  4/29/2020   Alabama              US       6912     256          0\n",
       "182  4/29/2020    Alaska              US        355       9          0\n",
       "183  4/29/2020   Alberta          Canada       5165      87          0\n",
       "184  4/29/2020  Anguilla              UK          3       0          3\n",
       "185  4/29/2020     Anhui  Mainland China        991       6        985"
      ]
     },
     "execution_count": 15,
     "metadata": {},
     "output_type": "execute_result"
    }
   ],
   "source": [
    "data.dropna(subset = [\"State\"]).head()"
   ]
  },
  {
   "cell_type": "markdown",
   "id": "71974db9",
   "metadata": {},
   "source": [
    "## show The Region wise \"Confirmed\",\"Deaths\",\"Recoverd\" values in data set"
   ]
  },
  {
   "cell_type": "code",
   "execution_count": 16,
   "id": "8269eda4",
   "metadata": {},
   "outputs": [
    {
     "data": {
      "text/html": [
       "<div>\n",
       "<style scoped>\n",
       "    .dataframe tbody tr th:only-of-type {\n",
       "        vertical-align: middle;\n",
       "    }\n",
       "\n",
       "    .dataframe tbody tr th {\n",
       "        vertical-align: top;\n",
       "    }\n",
       "\n",
       "    .dataframe thead th {\n",
       "        text-align: right;\n",
       "    }\n",
       "</style>\n",
       "<table border=\"1\" class=\"dataframe\">\n",
       "  <thead>\n",
       "    <tr style=\"text-align: right;\">\n",
       "      <th></th>\n",
       "      <th>Confirmed</th>\n",
       "      <th>Deaths</th>\n",
       "      <th>Recovered</th>\n",
       "    </tr>\n",
       "    <tr>\n",
       "      <th>Region</th>\n",
       "      <th></th>\n",
       "      <th></th>\n",
       "      <th></th>\n",
       "    </tr>\n",
       "  </thead>\n",
       "  <tbody>\n",
       "    <tr>\n",
       "      <th>Afghanistan</th>\n",
       "      <td>1939</td>\n",
       "      <td>60</td>\n",
       "      <td>252</td>\n",
       "    </tr>\n",
       "    <tr>\n",
       "      <th>Albania</th>\n",
       "      <td>766</td>\n",
       "      <td>30</td>\n",
       "      <td>455</td>\n",
       "    </tr>\n",
       "    <tr>\n",
       "      <th>Algeria</th>\n",
       "      <td>3848</td>\n",
       "      <td>444</td>\n",
       "      <td>1702</td>\n",
       "    </tr>\n",
       "    <tr>\n",
       "      <th>Andorra</th>\n",
       "      <td>743</td>\n",
       "      <td>42</td>\n",
       "      <td>423</td>\n",
       "    </tr>\n",
       "    <tr>\n",
       "      <th>Angola</th>\n",
       "      <td>27</td>\n",
       "      <td>2</td>\n",
       "      <td>7</td>\n",
       "    </tr>\n",
       "    <tr>\n",
       "      <th>...</th>\n",
       "      <td>...</td>\n",
       "      <td>...</td>\n",
       "      <td>...</td>\n",
       "    </tr>\n",
       "    <tr>\n",
       "      <th>West Bank and Gaza</th>\n",
       "      <td>344</td>\n",
       "      <td>2</td>\n",
       "      <td>71</td>\n",
       "    </tr>\n",
       "    <tr>\n",
       "      <th>Western Sahara</th>\n",
       "      <td>6</td>\n",
       "      <td>0</td>\n",
       "      <td>5</td>\n",
       "    </tr>\n",
       "    <tr>\n",
       "      <th>Yemen</th>\n",
       "      <td>6</td>\n",
       "      <td>0</td>\n",
       "      <td>1</td>\n",
       "    </tr>\n",
       "    <tr>\n",
       "      <th>Zambia</th>\n",
       "      <td>97</td>\n",
       "      <td>3</td>\n",
       "      <td>54</td>\n",
       "    </tr>\n",
       "    <tr>\n",
       "      <th>Zimbabwe</th>\n",
       "      <td>32</td>\n",
       "      <td>4</td>\n",
       "      <td>5</td>\n",
       "    </tr>\n",
       "  </tbody>\n",
       "</table>\n",
       "<p>187 rows × 3 columns</p>\n",
       "</div>"
      ],
      "text/plain": [
       "                    Confirmed  Deaths  Recovered\n",
       "Region                                          \n",
       "Afghanistan              1939      60        252\n",
       "Albania                   766      30        455\n",
       "Algeria                  3848     444       1702\n",
       "Andorra                   743      42        423\n",
       "Angola                     27       2          7\n",
       "...                       ...     ...        ...\n",
       "West Bank and Gaza        344       2         71\n",
       "Western Sahara              6       0          5\n",
       "Yemen                       6       0          1\n",
       "Zambia                     97       3         54\n",
       "Zimbabwe                   32       4          5\n",
       "\n",
       "[187 rows x 3 columns]"
      ]
     },
     "execution_count": 16,
     "metadata": {},
     "output_type": "execute_result"
    }
   ],
   "source": [
    "data.groupby('Region').sum()\n"
   ]
  },
  {
   "cell_type": "markdown",
   "id": "92d6b492",
   "metadata": {},
   "source": [
    "### Here fig will show you the overall % of deaths,confirmed,recovered cases with respect to region"
   ]
  },
  {
   "cell_type": "code",
   "execution_count": 18,
   "id": "a912b2b6",
   "metadata": {},
   "outputs": [
    {
     "data": {
      "image/png": "[encoded data removed]",
      "text/plain": [
       "<Figure size 1440x1440 with 1 Axes>"
      ]
     },
     "metadata": {},
     "output_type": "display_data"
    }
   ],
   "source": [
    "plt.figure(figsize=(20,20))\n",
    "data[\"Region\"].value_counts().head(10).plot.pie(startangle=30, shadow=True, autopct=\"%1.1f%%\")\n",
    "plt.title(\" cases of 10 region %\")\n",
    "plt.show()"
   ]
  },
  {
   "cell_type": "markdown",
   "id": "7e044382",
   "metadata": {},
   "source": [
    "##  Shown  o/p  of \"Recovered\" cases in states with garphical representation"
   ]
  },
  {
   "cell_type": "code",
   "execution_count": 46,
   "id": "c3dae845",
   "metadata": {},
   "outputs": [
    {
     "data": {
      "text/plain": [
       "0      78\n",
       "5       5\n",
       "8       5\n",
       "19      4\n",
       "6       4\n",
       "7       4\n",
       "10      4\n",
       "12      3\n",
       "150     3\n",
       "18      3\n",
       "Name: Recovered, dtype: int64"
      ]
     },
     "execution_count": 46,
     "metadata": {},
     "output_type": "execute_result"
    }
   ],
   "source": [
    "data.Recovered.value_counts().head(10)"
   ]
  },
  {
   "cell_type": "markdown",
   "id": "feec6f70",
   "metadata": {},
   "source": [
    "### IT shows five row recovery counts of region\n",
    "<b> from the above counts the graph is represent "
   ]
  },
  {
   "cell_type": "code",
   "execution_count": 42,
   "id": "3256eb32",
   "metadata": {},
   "outputs": [
    {
     "data": {
      "image/png": "[encoded data removed]",
      "text/plain": [
       "<Figure size 720x720 with 1 Axes>"
      ]
     },
     "metadata": {
      "needs_background": "light"
     },
     "output_type": "display_data"
    }
   ],
   "source": [
    "#Graphical\n",
    "plt.figure(figsize=(10,10))\n",
    "sns.countplot(data=data, y=data[\"Recovered\"].head(5))\n",
    "plt.grid(True)"
   ]
  },
  {
   "cell_type": "markdown",
   "id": "67941ed9",
   "metadata": {},
   "source": [
    "### Here shown  o/p  of \"Confirmed\" cases in states with garphical representation"
   ]
  },
  {
   "cell_type": "code",
   "execution_count": 52,
   "id": "8b143563",
   "metadata": {},
   "outputs": [
    {
     "data": {
      "text/plain": [
       "11        5\n",
       "6         4\n",
       "16        4\n",
       "18        4\n",
       "8         3\n",
       "         ..\n",
       "2727      1\n",
       "168       1\n",
       "299691    1\n",
       "1361      1\n",
       "510       1\n",
       "Name: Confirmed, Length: 282, dtype: int64"
      ]
     },
     "execution_count": 52,
     "metadata": {},
     "output_type": "execute_result"
    }
   ],
   "source": [
    "data.Confirmed.value_counts()"
   ]
  },
  {
   "cell_type": "code",
   "execution_count": 53,
   "id": "1624fdf7",
   "metadata": {},
   "outputs": [
    {
     "data": {
      "image/png": "[encoded data removed]",
      "text/plain": [
       "<Figure size 720x720 with 1 Axes>"
      ]
     },
     "metadata": {
      "needs_background": "light"
     },
     "output_type": "display_data"
    }
   ],
   "source": [
    "#Graphical\n",
    "plt.figure(figsize=(10,10))\n",
    "sns.countplot(data=data, y=data[\"Confirmed\"].head(5))\n",
    "plt.grid(True)"
   ]
  },
  {
   "cell_type": "markdown",
   "id": "af922765",
   "metadata": {},
   "source": [
    "### Here shown  o/p  of \"Deaths\" cases in states with garphical representation"
   ]
  },
  {
   "cell_type": "code",
   "execution_count": 55,
   "id": "82ac62ef",
   "metadata": {},
   "outputs": [
    {
     "data": {
      "text/plain": [
       "0        53\n",
       "1        25\n",
       "3        15\n",
       "2        14\n",
       "6        13\n",
       "         ..\n",
       "98        1\n",
       "92        1\n",
       "87        1\n",
       "3670      1\n",
       "26097     1\n",
       "Name: Deaths, Length: 142, dtype: int64"
      ]
     },
     "execution_count": 55,
     "metadata": {},
     "output_type": "execute_result"
    }
   ],
   "source": [
    "data.Deaths.value_counts()"
   ]
  },
  {
   "cell_type": "code",
   "execution_count": 57,
   "id": "cbd43356",
   "metadata": {},
   "outputs": [
    {
     "data": {
      "image/png": "[encoded data removed]",
      "text/plain": [
       "<Figure size 648x648 with 1 Axes>"
      ]
     },
     "metadata": {
      "needs_background": "light"
     },
     "output_type": "display_data"
    }
   ],
   "source": [
    "#Graphical\n",
    "plt.figure(figsize=(9,9))\n",
    "sns.countplot(data=data, y=data[\"Deaths\"].head(5))\n",
    "plt.grid(True)"
   ]
  },
  {
   "cell_type": "markdown",
   "id": "29437d03",
   "metadata": {},
   "source": [
    "## This shows the confirmed cases in the region and its been sorted in highest cases found in region wise list"
   ]
  },
  {
   "cell_type": "code",
   "execution_count": 67,
   "id": "f93a666f",
   "metadata": {},
   "outputs": [
    {
     "data": {
      "text/plain": [
       "Region\n",
       "Algeria        3848\n",
       "Afghanistan    1939\n",
       "Albania         766\n",
       "Andorra         743\n",
       "Angola           27\n",
       "Name: Confirmed, dtype: int64"
      ]
     },
     "execution_count": 67,
     "metadata": {},
     "output_type": "execute_result"
    }
   ],
   "source": [
    "# (here we are spearating the specific column info)\n",
    "data.groupby('Region')['Confirmed'].sum().head(5).sort_values(ascending=False)"
   ]
  },
  {
   "cell_type": "code",
   "execution_count": 71,
   "id": "2f026a5d",
   "metadata": {},
   "outputs": [
    {
     "data": {
      "image/png": "[encoded data removed]",
      "text/plain": [
       "<Figure size 648x648 with 1 Axes>"
      ]
     },
     "metadata": {},
     "output_type": "display_data"
    }
   ],
   "source": [
    "plt.figure(figsize=(9,9))\n",
    "data.groupby('Region')['Confirmed'].sum().head(4).sort_values(ascending=False).plot.pie(startangle=80, shadow=True, autopct=\"%1.1F%%\")\n",
    "plt.title(\"region wise rate Confirmed\")\n",
    "plt.show()"
   ]
  },
  {
   "cell_type": "markdown",
   "id": "d639d509",
   "metadata": {},
   "source": [
    "## This shows the Deaths cases in the region and its been sorted in highest cases found in region wise list"
   ]
  },
  {
   "cell_type": "code",
   "execution_count": 66,
   "id": "53fbaed9",
   "metadata": {},
   "outputs": [
    {
     "data": {
      "text/plain": [
       "Region\n",
       "US             60967\n",
       "Italy          27682\n",
       "UK             26166\n",
       "Spain          24275\n",
       "France         24121\n",
       "               ...  \n",
       "Holy See           0\n",
       "Grenada            0\n",
       "South Sudan        0\n",
       "Nepal              0\n",
       "Laos               0\n",
       "Name: Deaths, Length: 187, dtype: int64"
      ]
     },
     "execution_count": 66,
     "metadata": {},
     "output_type": "execute_result"
    }
   ],
   "source": [
    "data.groupby('Region')['Deaths'].sum().sort_values(ascending=False)"
   ]
  },
  {
   "cell_type": "code",
   "execution_count": 70,
   "id": "da895f25",
   "metadata": {},
   "outputs": [
    {
     "data": {
      "image/png": "[encoded data removed]",
      "text/plain": [
       "<Figure size 648x648 with 1 Axes>"
      ]
     },
     "metadata": {},
     "output_type": "display_data"
    }
   ],
   "source": [
    "plt.figure(figsize=(9,9))\n",
    "data.groupby('Region')['Deaths'].sum().head(4).sort_values(ascending=False).plot.pie(startangle=30, shadow=True, autopct=\"%1.1F%%\")\n",
    "plt.title(\"region wise Death rate\")\n",
    "plt.show()"
   ]
  },
  {
   "cell_type": "markdown",
   "id": "545851d2",
   "metadata": {},
   "source": [
    "## This shows the Recovered cases in the region and its been sorted in highest cases found in region wise list"
   ]
  },
  {
   "cell_type": "code",
   "execution_count": 64,
   "id": "f2794c09",
   "metadata": {},
   "outputs": [
    {
     "data": {
      "text/plain": [
       "Region\n",
       "Spain               132929\n",
       "US                  120720\n",
       "Germany             120400\n",
       "Mainland China       77610\n",
       "Iran                 73791\n",
       "                     ...  \n",
       "Cabo Verde               2\n",
       "Yemen                    1\n",
       "South Sudan              0\n",
       "Papua New Guinea         0\n",
       "MS Zaandam               0\n",
       "Name: Recovered, Length: 187, dtype: int64"
      ]
     },
     "execution_count": 64,
     "metadata": {},
     "output_type": "execute_result"
    }
   ],
   "source": [
    "data.groupby('Region')['Recovered'].sum().sort_values(ascending=False)"
   ]
  },
  {
   "cell_type": "code",
   "execution_count": 72,
   "id": "9d9c4b19",
   "metadata": {},
   "outputs": [
    {
     "data": {
      "image/png": "[encoded data removed]",
      "text/plain": [
       "<Figure size 648x648 with 1 Axes>"
      ]
     },
     "metadata": {},
     "output_type": "display_data"
    }
   ],
   "source": [
    "plt.figure(figsize=(9,9))\n",
    "data.groupby('Region')['Recovered'].sum().head(4).sort_values(ascending=False).plot.pie(startangle=30, shadow=True, autopct=\"%1.1F%%\")\n",
    "plt.title(\"region wise Death rate\")\n",
    "plt.show()"
   ]
  },
  {
   "cell_type": "markdown",
   "id": "55fe28a0",
   "metadata": {},
   "source": [
    "# How many confirmed ,recovered, deaths rates in a US"
   ]
  },
  {
   "cell_type": "code",
   "execution_count": 74,
   "id": "d7950cb1",
   "metadata": {},
   "outputs": [
    {
     "data": {
      "text/html": [
       "<div>\n",
       "<style scoped>\n",
       "    .dataframe tbody tr th:only-of-type {\n",
       "        vertical-align: middle;\n",
       "    }\n",
       "\n",
       "    .dataframe tbody tr th {\n",
       "        vertical-align: top;\n",
       "    }\n",
       "\n",
       "    .dataframe thead th {\n",
       "        text-align: right;\n",
       "    }\n",
       "</style>\n",
       "<table border=\"1\" class=\"dataframe\">\n",
       "  <thead>\n",
       "    <tr style=\"text-align: right;\">\n",
       "      <th></th>\n",
       "      <th>Date</th>\n",
       "      <th>State</th>\n",
       "      <th>Region</th>\n",
       "      <th>Confirmed</th>\n",
       "      <th>Deaths</th>\n",
       "      <th>Recovered</th>\n",
       "    </tr>\n",
       "  </thead>\n",
       "  <tbody>\n",
       "    <tr>\n",
       "      <th>181</th>\n",
       "      <td>4/29/2020</td>\n",
       "      <td>Alabama</td>\n",
       "      <td>US</td>\n",
       "      <td>6912</td>\n",
       "      <td>256</td>\n",
       "      <td>0</td>\n",
       "    </tr>\n",
       "    <tr>\n",
       "      <th>182</th>\n",
       "      <td>4/29/2020</td>\n",
       "      <td>Alaska</td>\n",
       "      <td>US</td>\n",
       "      <td>355</td>\n",
       "      <td>9</td>\n",
       "      <td>0</td>\n",
       "    </tr>\n",
       "    <tr>\n",
       "      <th>186</th>\n",
       "      <td>4/29/2020</td>\n",
       "      <td>Arizona</td>\n",
       "      <td>US</td>\n",
       "      <td>7209</td>\n",
       "      <td>308</td>\n",
       "      <td>0</td>\n",
       "    </tr>\n",
       "    <tr>\n",
       "      <th>187</th>\n",
       "      <td>4/29/2020</td>\n",
       "      <td>Arkansas</td>\n",
       "      <td>US</td>\n",
       "      <td>3193</td>\n",
       "      <td>57</td>\n",
       "      <td>0</td>\n",
       "    </tr>\n",
       "    <tr>\n",
       "      <th>195</th>\n",
       "      <td>4/29/2020</td>\n",
       "      <td>California</td>\n",
       "      <td>US</td>\n",
       "      <td>48747</td>\n",
       "      <td>1946</td>\n",
       "      <td>0</td>\n",
       "    </tr>\n",
       "    <tr>\n",
       "      <th>199</th>\n",
       "      <td>4/29/2020</td>\n",
       "      <td>Colorado</td>\n",
       "      <td>US</td>\n",
       "      <td>14758</td>\n",
       "      <td>766</td>\n",
       "      <td>0</td>\n",
       "    </tr>\n",
       "    <tr>\n",
       "      <th>200</th>\n",
       "      <td>4/29/2020</td>\n",
       "      <td>Connecticut</td>\n",
       "      <td>US</td>\n",
       "      <td>26767</td>\n",
       "      <td>2169</td>\n",
       "      <td>0</td>\n",
       "    </tr>\n",
       "    <tr>\n",
       "      <th>202</th>\n",
       "      <td>4/29/2020</td>\n",
       "      <td>Delaware</td>\n",
       "      <td>US</td>\n",
       "      <td>4655</td>\n",
       "      <td>144</td>\n",
       "      <td>0</td>\n",
       "    </tr>\n",
       "    <tr>\n",
       "      <th>204</th>\n",
       "      <td>4/29/2020</td>\n",
       "      <td>Diamond Princess cruise ship</td>\n",
       "      <td>US</td>\n",
       "      <td>49</td>\n",
       "      <td>0</td>\n",
       "      <td>0</td>\n",
       "    </tr>\n",
       "    <tr>\n",
       "      <th>205</th>\n",
       "      <td>4/29/2020</td>\n",
       "      <td>District of Columbia</td>\n",
       "      <td>US</td>\n",
       "      <td>4106</td>\n",
       "      <td>205</td>\n",
       "      <td>0</td>\n",
       "    </tr>\n",
       "  </tbody>\n",
       "</table>\n",
       "</div>"
      ],
      "text/plain": [
       "          Date                         State Region  Confirmed  Deaths  \\\n",
       "181  4/29/2020                       Alabama     US       6912     256   \n",
       "182  4/29/2020                        Alaska     US        355       9   \n",
       "186  4/29/2020                       Arizona     US       7209     308   \n",
       "187  4/29/2020                      Arkansas     US       3193      57   \n",
       "195  4/29/2020                    California     US      48747    1946   \n",
       "199  4/29/2020                      Colorado     US      14758     766   \n",
       "200  4/29/2020                   Connecticut     US      26767    2169   \n",
       "202  4/29/2020                      Delaware     US       4655     144   \n",
       "204  4/29/2020  Diamond Princess cruise ship     US         49       0   \n",
       "205  4/29/2020          District of Columbia     US       4106     205   \n",
       "\n",
       "     Recovered  \n",
       "181          0  \n",
       "182          0  \n",
       "186          0  \n",
       "187          0  \n",
       "195          0  \n",
       "199          0  \n",
       "200          0  \n",
       "202          0  \n",
       "204          0  \n",
       "205          0  "
      ]
     },
     "execution_count": 74,
     "metadata": {},
     "output_type": "execute_result"
    }
   ],
   "source": [
    "data[data.Region == \"US\"].head(10)"
   ]
  },
  {
   "cell_type": "markdown",
   "id": "a8e64825",
   "metadata": {},
   "source": [
    "# Below we can see the Region=US recovered,confirmed,death cases in the table"
   ]
  },
  {
   "cell_type": "code",
   "execution_count": 75,
   "id": "25bff3e1",
   "metadata": {},
   "outputs": [
    {
     "data": {
      "text/plain": [
       "181     6912\n",
       "182      355\n",
       "186     7209\n",
       "187     3193\n",
       "195    48747\n",
       "Name: Confirmed, dtype: int64"
      ]
     },
     "execution_count": 75,
     "metadata": {},
     "output_type": "execute_result"
    }
   ],
   "source": [
    "data[data.Region==\"US\"]['Confirmed'].head()"
   ]
  },
  {
   "cell_type": "code",
   "execution_count": 77,
   "id": "75e5136b",
   "metadata": {},
   "outputs": [
    {
     "data": {
      "image/png": "[encoded data removed]",
      "text/plain": [
       "<Figure size 360x360 with 1 Axes>"
      ]
     },
     "metadata": {
      "needs_background": "light"
     },
     "output_type": "display_data"
    }
   ],
   "source": [
    "plt.figure(figsize=(5,5))\n",
    "data[data.Region==\"US\"]['Confirmed'].head().plot(kind=(\"bar\") , color =\"g\")\n",
    "plt.title(\"US Confirmed cases\")\n",
    "plt.show()"
   ]
  },
  {
   "cell_type": "code",
   "execution_count": 78,
   "id": "c5fd8ca7",
   "metadata": {},
   "outputs": [
    {
     "data": {
      "text/plain": [
       "181     256\n",
       "182       9\n",
       "186     308\n",
       "187      57\n",
       "195    1946\n",
       "Name: Deaths, dtype: int64"
      ]
     },
     "execution_count": 78,
     "metadata": {},
     "output_type": "execute_result"
    }
   ],
   "source": [
    "data[data.Region==\"US\"]['Deaths'].head()"
   ]
  },
  {
   "cell_type": "code",
   "execution_count": 79,
   "id": "f7da574f",
   "metadata": {},
   "outputs": [
    {
     "data": {
      "image/png": "[encoded data removed]",
      "text/plain": [
       "<Figure size 360x360 with 1 Axes>"
      ]
     },
     "metadata": {
      "needs_background": "light"
     },
     "output_type": "display_data"
    }
   ],
   "source": [
    "plt.figure(figsize=(5,5))\n",
    "data[data.Region==\"US\"]['Deaths'].head().plot(kind=(\"bar\") , color =\"r\")\n",
    "plt.title(\"US Deaths cases\")\n",
    "plt.show()"
   ]
  },
  {
   "cell_type": "code",
   "execution_count": 85,
   "id": "be649de3",
   "metadata": {},
   "outputs": [
    {
     "data": {
      "text/plain": [
       "181    0\n",
       "182    0\n",
       "186    0\n",
       "187    0\n",
       "195    0\n",
       "Name: Recovered, dtype: int64"
      ]
     },
     "execution_count": 85,
     "metadata": {},
     "output_type": "execute_result"
    }
   ],
   "source": [
    "data[data.Region==\"US\"]['Recovered'].head()"
   ]
  },
  {
   "cell_type": "code",
   "execution_count": 84,
   "id": "b0752d25",
   "metadata": {},
   "outputs": [
    {
     "data": {
      "image/png": "[encoded data removed]",
      "text/plain": [
       "<Figure size 360x360 with 1 Axes>"
      ]
     },
     "metadata": {
      "needs_background": "light"
     },
     "output_type": "display_data"
    }
   ],
   "source": [
    "plt.figure(figsize=(5,5))\n",
    "data[data.Region==\"US\"]['Recovered'].head().plot(kind=(\"bar\") , color =\"r\")\n",
    "plt.title(\"US Deaths cases\")\n",
    "plt.show()"
   ]
  },
  {
   "cell_type": "markdown",
   "id": "df4c040c",
   "metadata": {},
   "source": [
    "## Average(Mean) of Recovered rate in US"
   ]
  },
  {
   "cell_type": "code",
   "execution_count": 86,
   "id": "3f2594cf",
   "metadata": {},
   "outputs": [
    {
     "data": {
      "text/plain": [
       "29.0"
      ]
     },
     "execution_count": 86,
     "metadata": {},
     "output_type": "execute_result"
    }
   ],
   "source": [
    "data[data.Region==\"US\"]['Recovered'].value_counts().mean()\n"
   ]
  },
  {
   "cell_type": "markdown",
   "id": "d618c4e3",
   "metadata": {},
   "source": [
    "## Average(Mean) of Deaths rate in US"
   ]
  },
  {
   "cell_type": "code",
   "execution_count": 88,
   "id": "303fa256",
   "metadata": {},
   "outputs": [
    {
     "data": {
      "text/plain": [
       "1.0740740740740742"
      ]
     },
     "execution_count": 88,
     "metadata": {},
     "output_type": "execute_result"
    }
   ],
   "source": [
    "data[data.Region==\"US\"]['Deaths'].value_counts().mean()"
   ]
  },
  {
   "cell_type": "markdown",
   "id": "9d5be1bc",
   "metadata": {},
   "source": [
    "## Average(Mean) of Confirmed rate in US"
   ]
  },
  {
   "cell_type": "code",
   "execution_count": 100,
   "id": "a9f1d61a",
   "metadata": {},
   "outputs": [
    {
     "data": {
      "text/plain": [
       "1.0"
      ]
     },
     "execution_count": 100,
     "metadata": {},
     "output_type": "execute_result"
    }
   ],
   "source": [
    "data[data.Region==\"US\"]['Confirmed'].value_counts().mean()"
   ]
  },
  {
   "cell_type": "markdown",
   "id": "67e9e451",
   "metadata": {},
   "source": [
    "# how many confirmed ,recovered, deaths rates in a Mainland China"
   ]
  },
  {
   "cell_type": "code",
   "execution_count": 106,
   "id": "be9f6fca",
   "metadata": {},
   "outputs": [
    {
     "data": {
      "text/html": [
       "<div>\n",
       "<style scoped>\n",
       "    .dataframe tbody tr th:only-of-type {\n",
       "        vertical-align: middle;\n",
       "    }\n",
       "\n",
       "    .dataframe tbody tr th {\n",
       "        vertical-align: top;\n",
       "    }\n",
       "\n",
       "    .dataframe thead th {\n",
       "        text-align: right;\n",
       "    }\n",
       "</style>\n",
       "<table border=\"1\" class=\"dataframe\">\n",
       "  <thead>\n",
       "    <tr style=\"text-align: right;\">\n",
       "      <th></th>\n",
       "      <th>Date</th>\n",
       "      <th>State</th>\n",
       "      <th>Region</th>\n",
       "      <th>Confirmed</th>\n",
       "      <th>Deaths</th>\n",
       "      <th>Recovered</th>\n",
       "    </tr>\n",
       "  </thead>\n",
       "  <tbody>\n",
       "    <tr>\n",
       "      <th>185</th>\n",
       "      <td>4/29/2020</td>\n",
       "      <td>Anhui</td>\n",
       "      <td>Mainland China</td>\n",
       "      <td>991</td>\n",
       "      <td>6</td>\n",
       "      <td>985</td>\n",
       "    </tr>\n",
       "    <tr>\n",
       "      <th>190</th>\n",
       "      <td>4/29/2020</td>\n",
       "      <td>Beijing</td>\n",
       "      <td>Mainland China</td>\n",
       "      <td>593</td>\n",
       "      <td>9</td>\n",
       "      <td>542</td>\n",
       "    </tr>\n",
       "    <tr>\n",
       "      <th>198</th>\n",
       "      <td>4/29/2020</td>\n",
       "      <td>Chongqing</td>\n",
       "      <td>Mainland China</td>\n",
       "      <td>579</td>\n",
       "      <td>6</td>\n",
       "      <td>573</td>\n",
       "    </tr>\n",
       "    <tr>\n",
       "      <th>211</th>\n",
       "      <td>4/29/2020</td>\n",
       "      <td>Fujian</td>\n",
       "      <td>Mainland China</td>\n",
       "      <td>355</td>\n",
       "      <td>1</td>\n",
       "      <td>353</td>\n",
       "    </tr>\n",
       "    <tr>\n",
       "      <th>212</th>\n",
       "      <td>4/29/2020</td>\n",
       "      <td>Gansu</td>\n",
       "      <td>Mainland China</td>\n",
       "      <td>139</td>\n",
       "      <td>2</td>\n",
       "      <td>137</td>\n",
       "    </tr>\n",
       "    <tr>\n",
       "      <th>220</th>\n",
       "      <td>4/29/2020</td>\n",
       "      <td>Guangdong</td>\n",
       "      <td>Mainland China</td>\n",
       "      <td>1588</td>\n",
       "      <td>8</td>\n",
       "      <td>1557</td>\n",
       "    </tr>\n",
       "    <tr>\n",
       "      <th>221</th>\n",
       "      <td>4/29/2020</td>\n",
       "      <td>Guangxi</td>\n",
       "      <td>Mainland China</td>\n",
       "      <td>254</td>\n",
       "      <td>2</td>\n",
       "      <td>252</td>\n",
       "    </tr>\n",
       "    <tr>\n",
       "      <th>222</th>\n",
       "      <td>4/29/2020</td>\n",
       "      <td>Guizhou</td>\n",
       "      <td>Mainland China</td>\n",
       "      <td>147</td>\n",
       "      <td>2</td>\n",
       "      <td>145</td>\n",
       "    </tr>\n",
       "    <tr>\n",
       "      <th>223</th>\n",
       "      <td>4/29/2020</td>\n",
       "      <td>Hainan</td>\n",
       "      <td>Mainland China</td>\n",
       "      <td>168</td>\n",
       "      <td>6</td>\n",
       "      <td>162</td>\n",
       "    </tr>\n",
       "    <tr>\n",
       "      <th>225</th>\n",
       "      <td>4/29/2020</td>\n",
       "      <td>Hebei</td>\n",
       "      <td>Mainland China</td>\n",
       "      <td>328</td>\n",
       "      <td>6</td>\n",
       "      <td>318</td>\n",
       "    </tr>\n",
       "  </tbody>\n",
       "</table>\n",
       "</div>"
      ],
      "text/plain": [
       "          Date      State          Region  Confirmed  Deaths  Recovered\n",
       "185  4/29/2020      Anhui  Mainland China        991       6        985\n",
       "190  4/29/2020    Beijing  Mainland China        593       9        542\n",
       "198  4/29/2020  Chongqing  Mainland China        579       6        573\n",
       "211  4/29/2020     Fujian  Mainland China        355       1        353\n",
       "212  4/29/2020      Gansu  Mainland China        139       2        137\n",
       "220  4/29/2020  Guangdong  Mainland China       1588       8       1557\n",
       "221  4/29/2020    Guangxi  Mainland China        254       2        252\n",
       "222  4/29/2020    Guizhou  Mainland China        147       2        145\n",
       "223  4/29/2020     Hainan  Mainland China        168       6        162\n",
       "225  4/29/2020      Hebei  Mainland China        328       6        318"
      ]
     },
     "execution_count": 106,
     "metadata": {},
     "output_type": "execute_result"
    }
   ],
   "source": [
    "data[data.Region == \"Mainland China\"].head(10)"
   ]
  },
  {
   "cell_type": "markdown",
   "id": "55a643ae",
   "metadata": {},
   "source": [
    "# Below we can see the Region=Mainland China recovered,confirmed,death cases in the table"
   ]
  },
  {
   "cell_type": "code",
   "execution_count": 112,
   "id": "7a3acb84",
   "metadata": {},
   "outputs": [
    {
     "data": {
      "text/plain": [
       "185     991\n",
       "190     593\n",
       "198     579\n",
       "211     355\n",
       "212     139\n",
       "220    1588\n",
       "Name: Confirmed, dtype: int64"
      ]
     },
     "execution_count": 112,
     "metadata": {},
     "output_type": "execute_result"
    }
   ],
   "source": [
    "data[data.Region==\"Mainland China\"]['Confirmed'].head(6)"
   ]
  },
  {
   "cell_type": "code",
   "execution_count": 117,
   "id": "e7f2c58b",
   "metadata": {},
   "outputs": [
    {
     "data": {
      "image/png": "[encoded data removed]",
      "text/plain": [
       "<Figure size 360x360 with 1 Axes>"
      ]
     },
     "metadata": {
      "needs_background": "light"
     },
     "output_type": "display_data"
    }
   ],
   "source": [
    "plt.figure(figsize=(5,5))\n",
    "data[data.Region==\"Mainland China\"]['Confirmed'].head().plot(kind=(\"bar\") , color =\"g\")\n",
    "plt.title(\"Mainland China Confirmed cases\")\n",
    "plt.grid()\n",
    "plt.show()"
   ]
  },
  {
   "cell_type": "code",
   "execution_count": 113,
   "id": "b520aa64",
   "metadata": {},
   "outputs": [
    {
     "data": {
      "text/plain": [
       "185    6\n",
       "190    9\n",
       "198    6\n",
       "211    1\n",
       "212    2\n",
       "220    8\n",
       "Name: Deaths, dtype: int64"
      ]
     },
     "execution_count": 113,
     "metadata": {},
     "output_type": "execute_result"
    }
   ],
   "source": [
    "data[data.Region==\"Mainland China\"]['Deaths'].head(6)"
   ]
  },
  {
   "cell_type": "code",
   "execution_count": 116,
   "id": "2efdb8be",
   "metadata": {},
   "outputs": [
    {
     "data": {
      "image/png": "[encoded data removed]",
      "text/plain": [
       "<Figure size 360x360 with 1 Axes>"
      ]
     },
     "metadata": {
      "needs_background": "light"
     },
     "output_type": "display_data"
    }
   ],
   "source": [
    "plt.figure(figsize=(5,5))\n",
    "data[data.Region==\"Mainland China\"]['Deaths'].head().plot(kind=(\"bar\") , color =\"r\")\n",
    "plt.title(\"Mainland China Confirmed cases\")\n",
    "plt.grid()\n",
    "plt.show()"
   ]
  },
  {
   "cell_type": "code",
   "execution_count": 110,
   "id": "d2390562",
   "metadata": {},
   "outputs": [
    {
     "data": {
      "text/plain": [
       "185    985\n",
       "190    542\n",
       "198    573\n",
       "211    353\n",
       "212    137\n",
       "Name: Recovered, dtype: int64"
      ]
     },
     "execution_count": 110,
     "metadata": {},
     "output_type": "execute_result"
    }
   ],
   "source": [
    "data[data.Region==\"Mainland China\"]['Recovered'].head()"
   ]
  },
  {
   "cell_type": "code",
   "execution_count": 118,
   "id": "98f57d78",
   "metadata": {},
   "outputs": [
    {
     "data": {
      "image/png": "[encoded data removed]",
      "text/plain": [
       "<Figure size 360x360 with 1 Axes>"
      ]
     },
     "metadata": {
      "needs_background": "light"
     },
     "output_type": "display_data"
    }
   ],
   "source": [
    "plt.figure(figsize=(5,5))\n",
    "data[data.Region==\"Mainland China\"]['Recovered'].head().plot(kind=(\"bar\") , color =\"y\")\n",
    "plt.title(\"Mainland China Confirmed cases\")\n",
    "plt.grid()\n",
    "plt.show()"
   ]
  },
  {
   "cell_type": "markdown",
   "id": "d1147073",
   "metadata": {},
   "source": [
    "## Average(Mean) of Recovered rate in Mainland China"
   ]
  },
  {
   "cell_type": "code",
   "execution_count": 119,
   "id": "b4737213",
   "metadata": {},
   "outputs": [
    {
     "data": {
      "text/plain": [
       "1.0"
      ]
     },
     "execution_count": 119,
     "metadata": {},
     "output_type": "execute_result"
    }
   ],
   "source": [
    "data[data.Region==\"Mainland China\"]['Recovered'].value_counts().mean()\n"
   ]
  },
  {
   "cell_type": "markdown",
   "id": "19dfd830",
   "metadata": {},
   "source": [
    "## Average(Mean) of Deaths rate in Mainland China "
   ]
  },
  {
   "cell_type": "code",
   "execution_count": 120,
   "id": "e6fc6cee",
   "metadata": {},
   "outputs": [
    {
     "data": {
      "text/plain": [
       "2.5833333333333335"
      ]
     },
     "execution_count": 120,
     "metadata": {},
     "output_type": "execute_result"
    }
   ],
   "source": [
    "data[data.Region==\"Mainland China\"]['Deaths'].value_counts().mean()\n"
   ]
  },
  {
   "cell_type": "markdown",
   "id": "20bca2c1",
   "metadata": {},
   "source": [
    "# this shows recovery % rate of Us with respect to Region"
   ]
  },
  {
   "cell_type": "code",
   "execution_count": 188,
   "id": "74ed7fac",
   "metadata": {},
   "outputs": [
    {
     "data": {
      "text/plain": [
       "0         98.28\n",
       "120720     1.72\n",
       "Name: Recovered, dtype: float64"
      ]
     },
     "execution_count": 188,
     "metadata": {},
     "output_type": "execute_result"
    }
   ],
   "source": [
    "data[data.Region=='US'].Recovered.value_counts(normalize=True).mul(100).round(2)"
   ]
  },
  {
   "cell_type": "markdown",
   "id": "59ad919a",
   "metadata": {},
   "source": [
    "# this shows Max recovery % rate of overall US region"
   ]
  },
  {
   "cell_type": "code",
   "execution_count": 187,
   "id": "a43c0cbb",
   "metadata": {},
   "outputs": [
    {
     "data": {
      "text/plain": [
       "98.28"
      ]
     },
     "execution_count": 187,
     "metadata": {},
     "output_type": "execute_result"
    }
   ],
   "source": [
    "data[data.Region=='US'].Recovered.value_counts(normalize=True).mul(100).round(2).max()"
   ]
  },
  {
   "cell_type": "markdown",
   "id": "86f16b09",
   "metadata": {},
   "source": [
    "# this shows Recovery % of ML-China with respect to Region "
   ]
  },
  {
   "cell_type": "code",
   "execution_count": 204,
   "id": "0d5a0c28",
   "metadata": {},
   "outputs": [
    {
     "data": {
      "text/plain": [
       "63616    3.23\n",
       "542      3.23\n",
       "253      3.23\n",
       "252      3.23\n",
       "573      3.23\n",
       "Name: Recovered, dtype: float64"
      ]
     },
     "execution_count": 204,
     "metadata": {},
     "output_type": "execute_result"
    }
   ],
   "source": [
    "data[data.Region==\"Mainland China\"].Recovered.value_counts(normalize=True).mul(100).round(2).head()"
   ]
  },
  {
   "cell_type": "markdown",
   "id": "978485e1",
   "metadata": {},
   "source": [
    "# this show Max Recovery % of Ml-china with respect to region. "
   ]
  },
  {
   "cell_type": "code",
   "execution_count": 184,
   "id": "83ad2664",
   "metadata": {},
   "outputs": [
    {
     "data": {
      "text/plain": [
       "3.23"
      ]
     },
     "execution_count": 184,
     "metadata": {},
     "output_type": "execute_result"
    }
   ],
   "source": [
    "data[data.Region==\"Mainland China\"].Recovered.value_counts(normalize=True).mul(100).round(2).max()"
   ]
  },
  {
   "cell_type": "markdown",
   "id": "e2a95a28",
   "metadata": {},
   "source": [
    "# this shows Detahs % of US with respect to region "
   ]
  },
  {
   "cell_type": "code",
   "execution_count": 203,
   "id": "5e68eba2",
   "metadata": {},
   "outputs": [
    {
     "data": {
      "text/plain": [
       "0       3.4\n",
       "16      3.4\n",
       "308     3.4\n",
       "60      3.4\n",
       "2169    1.7\n",
       "Name: Deaths, dtype: float64"
      ]
     },
     "execution_count": 203,
     "metadata": {},
     "output_type": "execute_result"
    }
   ],
   "source": [
    "data[data.Region==\"US\"].Deaths.value_counts(normalize=True).mul(100).round(1).head()"
   ]
  },
  {
   "cell_type": "markdown",
   "id": "a54808e9",
   "metadata": {},
   "source": [
    "# this show max Deaths rate %  of US with respect to region "
   ]
  },
  {
   "cell_type": "code",
   "execution_count": 190,
   "id": "65f5259a",
   "metadata": {},
   "outputs": [
    {
     "data": {
      "text/plain": [
       "3.45"
      ]
     },
     "execution_count": 190,
     "metadata": {},
     "output_type": "execute_result"
    }
   ],
   "source": [
    "data[data.Region==\"US\"].Deaths.value_counts(normalize=True).mul(100).round(2).max()"
   ]
  },
  {
   "cell_type": "markdown",
   "id": "26643084",
   "metadata": {},
   "source": [
    "# this shows Deaths rate % of ML-china with respect to region"
   ]
  },
  {
   "cell_type": "code",
   "execution_count": 198,
   "id": "f258b5fc",
   "metadata": {},
   "outputs": [
    {
     "data": {
      "text/plain": [
       "1       16.13\n",
       "2       16.13\n",
       "0       16.13\n",
       "3       12.90\n",
       "6       12.90\n",
       "7        6.45\n",
       "4512     3.23\n",
       "4        3.23\n",
       "8        3.23\n",
       "9        3.23\n",
       "13       3.23\n",
       "22       3.23\n",
       "Name: Deaths, dtype: float64"
      ]
     },
     "execution_count": 198,
     "metadata": {},
     "output_type": "execute_result"
    }
   ],
   "source": [
    "data[data.Region==\"Mainland China\"].Deaths.value_counts(normalize=True).mul(100).round(2)"
   ]
  },
  {
   "cell_type": "markdown",
   "id": "a6c848af",
   "metadata": {},
   "source": [
    "# It shows max Deaths % of ML-China with respect to region"
   ]
  },
  {
   "cell_type": "code",
   "execution_count": 192,
   "id": "a1520cba",
   "metadata": {},
   "outputs": [
    {
     "data": {
      "text/plain": [
       "16.13"
      ]
     },
     "execution_count": 192,
     "metadata": {},
     "output_type": "execute_result"
    }
   ],
   "source": [
    "data[data.Region==\"Mainland China\"].Deaths.value_counts(normalize=True).mul(100).round(2).max()"
   ]
  },
  {
   "cell_type": "markdown",
   "id": "2fa9600c",
   "metadata": {},
   "source": [
    "# It shows the Confirmed % of US with respect to region"
   ]
  },
  {
   "cell_type": "code",
   "execution_count": 196,
   "id": "e241d2e9",
   "metadata": {},
   "outputs": [
    {
     "data": {
      "text/plain": [
       "6912     1.72\n",
       "103      1.72\n",
       "2373     1.72\n",
       "4934     1.72\n",
       "27257    1.72\n",
       "Name: Confirmed, dtype: float64"
      ]
     },
     "execution_count": 196,
     "metadata": {},
     "output_type": "execute_result"
    }
   ],
   "source": [
    "data[data.Region==\"US\"].Confirmed.value_counts(normalize=True).mul(100).round(2).head()"
   ]
  },
  {
   "cell_type": "markdown",
   "id": "48a51fa9",
   "metadata": {},
   "source": [
    "# it shows max Confirmed % of Us with respect to region"
   ]
  },
  {
   "cell_type": "code",
   "execution_count": 195,
   "id": "60605690",
   "metadata": {},
   "outputs": [
    {
     "data": {
      "text/plain": [
       "1.72"
      ]
     },
     "execution_count": 195,
     "metadata": {},
     "output_type": "execute_result"
    }
   ],
   "source": [
    "data[data.Region==\"US\"].Confirmed.value_counts(normalize=True).mul(100).round(2).max()"
   ]
  },
  {
   "cell_type": "markdown",
   "id": "d0d47e48",
   "metadata": {},
   "source": [
    "# It shows the Confirmed % of ML-China with respect to region"
   ]
  },
  {
   "cell_type": "code",
   "execution_count": 200,
   "id": "adfd63a3",
   "metadata": {},
   "outputs": [
    {
     "data": {
      "text/plain": [
       "1       3.23\n",
       "355     3.23\n",
       "787     3.23\n",
       "1276    3.23\n",
       "1019    3.23\n",
       "Name: Confirmed, dtype: float64"
      ]
     },
     "execution_count": 200,
     "metadata": {},
     "output_type": "execute_result"
    }
   ],
   "source": [
    "data[data.Region==\"Mainland China\"].Confirmed.value_counts(normalize=True).mul(100).round(2).head()"
   ]
  },
  {
   "cell_type": "markdown",
   "id": "34e778b9",
   "metadata": {},
   "source": [
    "# It shows the max Confirmed % of ML-China with respect to region"
   ]
  },
  {
   "cell_type": "code",
   "execution_count": 202,
   "id": "a6450021",
   "metadata": {},
   "outputs": [
    {
     "data": {
      "text/plain": [
       "3.23"
      ]
     },
     "execution_count": 202,
     "metadata": {},
     "output_type": "execute_result"
    }
   ],
   "source": [
    "data[data.Region==\"Mainland China\"].Confirmed.value_counts(normalize=True).mul(100).round(2).max()"
   ]
  },
  {
   "cell_type": "markdown",
   "id": "adee5960",
   "metadata": {},
   "source": [
    "### This dataset includes data tracking the number of people affected by COVID-19 worldwide, including:\n",
    "\n",
    "### 1) confirmed tested cases of Coronavirus infection\n",
    "\n",
    "### 2) the number of people who have reportedly recovered from it\n",
    "\n",
    "### 3) the number of people who have reportedly died while sick with Coronavirus\n",
    "\n",
    "### 4) And some graphical represention that show the proper indication of Recovered cases, Death cases etc.\n",
    "### 5) we had shown the comparison between US and Mainland china with the percentage of death,confirmed ,recovery cases it both regions\n",
    "\n",
    "\n",
    "### Solution\n",
    "\n",
    "\n"
   ]
  },
  {
   "cell_type": "markdown",
   "id": "d6f2e458",
   "metadata": {},
   "source": [
    "<b>  From above points we colclude that in \"US\" and \"mainland china\" \n",
    "<b>  Max Recovery percent of both country are with repect to region (\"US\"=1.27% & \"ML-China\"=3.23%)  \n",
    "<b>  Max Deaths percent of both country are with repect to region (\"US\"=3.45% &\"Ml-China\"=16.13%)\n",
    "<b>  Max Confirmed percent of both country are with repect to region (\"US\"=1.72% & \"Ml-China\"=3.23)\n",
    "\n",
    "<b>  so while looking at these figures and the above data is of one day\"29/04/2020\" we can predict that Recovery chances of US is less compare to china on that day,\n",
    "<b>  death rates chances of \"china\" is more and Confirmed found  cases are more of \"China\" than \"US\".\n",
    "\n",
    "<B> However these pridiction is calculate for day \"29/04/2020\" we can assume that \"Us\" is in satble position stable compare to \"china\" where china is faceing more deaths rates\n"
   ]
  },
  {
   "cell_type": "code",
   "execution_count": null,
   "id": "ee61d65c",
   "metadata": {},
   "outputs": [],
   "source": []
  }
 ],
 "metadata": {
  "kernelspec": {
   "display_name": "Python 3",
   "language": "python",
   "name": "python3"
  },
  "language_info": {
   "codemirror_mode": {
    "name": "ipython",
    "version": 3
   },
   "file_extension": ".py",
   "mimetype": "text/x-python",
   "name": "python",
   "nbconvert_exporter": "python",
   "pygments_lexer": "ipython3",
   "version": "3.8.8"
  }
 },
 "nbformat": 4,
 "nbformat_minor": 5
}
